{
 "cells": [
  {
   "cell_type": "markdown",
   "id": "fba41d3f",
   "metadata": {},
   "source": [
    "# Multiclass Logistic Regression"
   ]
  },
  {
   "cell_type": "code",
   "execution_count": null,
   "id": "077f396e",
   "metadata": {},
   "outputs": [],
   "source": [
    "import numpy as np\n",
    "import pandas as pd\n",
    "from sklearn.datasets import load_iris\n",
    "\n",
    "iris = load_iris()\n",
    "X = iris.data\n",
    "y = iris.target\n"
   ]
  },
  {
   "cell_type": "code",
   "execution_count": 2,
   "id": "29d9734a",
   "metadata": {},
   "outputs": [],
   "source": [
    "from sklearn.model_selection import train_test_split\n",
    "\n",
    "X_train, X_test, y_train, y_test = train_test_split(X, y, test_size=0.2, random_state=42)\n"
   ]
  },
  {
   "cell_type": "code",
   "execution_count": 3,
   "id": "bd12fe70",
   "metadata": {},
   "outputs": [],
   "source": [
    "from sklearn.linear_model import LogisticRegression\n",
    "\n",
    "classifiers = []\n",
    "for i in range(3):\n",
    "    y_train_i = (y_train == i)\n",
    "    classifier = LogisticRegression()\n",
    "    classifier.fit(X_train, y_train_i)\n",
    "    classifiers.append(classifier)\n"
   ]
  },
  {
   "cell_type": "code",
   "execution_count": 4,
   "id": "9dac0442",
   "metadata": {},
   "outputs": [],
   "source": [
    "y_pred_ovr = np.zeros((len(y_test), 3))\n",
    "for i, classifier in enumerate(classifiers):\n",
    "    y_pred_ovr[:, i] = classifier.predict_proba(X_test)[:, 1]\n",
    "    \n",
    "y_pred = np.argmax(y_pred_ovr, axis=1)\n"
   ]
  },
  {
   "cell_type": "code",
   "execution_count": 5,
   "id": "12ddc522",
   "metadata": {},
   "outputs": [
    {
     "name": "stdout",
     "output_type": "stream",
     "text": [
      "Accuracy: 0.9666666666666667\n"
     ]
    }
   ],
   "source": [
    "from sklearn.metrics import accuracy_score\n",
    "\n",
    "accuracy = accuracy_score(y_test, y_pred)\n",
    "print(\"Accuracy:\", accuracy)\n"
   ]
  },
  {
   "cell_type": "markdown",
   "id": "eadb65a0",
   "metadata": {},
   "source": [
    "# GridSearchCV"
   ]
  },
  {
   "cell_type": "code",
   "execution_count": 6,
   "id": "a7f04d26",
   "metadata": {},
   "outputs": [
    {
     "name": "stdout",
     "output_type": "stream",
     "text": [
      "Best K value: 3\n"
     ]
    }
   ],
   "source": [
    "from sklearn.datasets import load_iris\n",
    "from sklearn.neighbors import KNeighborsClassifier\n",
    "from sklearn.model_selection import GridSearchCV\n",
    "\n",
    "# Load the iris dataset\n",
    "iris = load_iris()\n",
    "\n",
    "# Split the data into training and testing sets\n",
    "X_train, X_test, y_train, y_test = train_test_split(iris.data, iris.target, test_size=0.2, random_state=42)\n",
    "\n",
    "# Define the parameter grid\n",
    "param_grid = {'n_neighbors': [1, 3, 5, 7, 9, 11]}\n",
    "\n",
    "# Create a K-NN classifier\n",
    "knn = KNeighborsClassifier()\n",
    "\n",
    "# Create a GridSearchCV object\n",
    "grid_search = GridSearchCV(knn, param_grid, cv=5)\n",
    "\n",
    "# Fit the GridSearchCV object to the data\n",
    "grid_search.fit(X_train, y_train)\n",
    "\n",
    "# Print the best value of K\n",
    "print(\"Best K value:\", grid_search.best_params_['n_neighbors'])\n"
   ]
  },
  {
   "cell_type": "markdown",
   "id": "1af90472",
   "metadata": {},
   "source": [
    "# K means clustering"
   ]
  },
  {
   "cell_type": "code",
   "execution_count": 12,
   "id": "4c57d3c6",
   "metadata": {},
   "outputs": [],
   "source": [
    "import pandas as pd\n",
    "import numpy as np\n",
    "import matplotlib.pyplot as plt\n",
    "from sklearn.cluster import KMeans\n",
    "from sklearn.metrics import silhouette_score\n",
    "from sklearn.preprocessing import StandardScaler\n",
    "\n",
    "mall_data = pd.read_csv('Mall_Customers.csv')\n"
   ]
  },
  {
   "cell_type": "code",
   "execution_count": 13,
   "id": "9c08fc51",
   "metadata": {},
   "outputs": [],
   "source": [
    "X = mall_data.iloc[:, [3, 4]].values\n",
    "scaler = StandardScaler()\n",
    "X = scaler.fit_transform(X)\n"
   ]
  },
  {
   "cell_type": "code",
   "execution_count": 14,
   "id": "58d6745c",
   "metadata": {},
   "outputs": [
    {
     "name": "stdout",
     "output_type": "stream",
     "text": [
      "Best K value: 5\n"
     ]
    }
   ],
   "source": [
    "k_values = [2, 3, 4, 5, 6, 7, 8, 9, 10]\n",
    "silhouette_scores = []\n",
    "\n",
    "for k in k_values:\n",
    "    kmeans = KMeans(n_clusters=k, init='k-means++', random_state=42)\n",
    "    kmeans.fit(X)\n",
    "    labels = kmeans.predict(X)\n",
    "    silhouette_scores.append(silhouette_score(X, labels))\n",
    "\n",
    "best_k = k_values[np.argmax(silhouette_scores)]\n",
    "print(\"Best K value:\", best_k)\n"
   ]
  },
  {
   "cell_type": "code",
   "execution_count": 15,
   "id": "98509ce8",
   "metadata": {},
   "outputs": [],
   "source": [
    "kmeans = KMeans(n_clusters=best_k, init='k-means++', random_state=42)\n",
    "labels = kmeans.fit_predict(X)\n"
   ]
  },
  {
   "cell_type": "code",
   "execution_count": 16,
   "id": "37498288",
   "metadata": {},
   "outputs": [],
   "source": [
    "# Create a DataFrame to store the cluster centers and size\n",
    "clusters_df = pd.DataFrame(columns=['Cluster', 'Center X', 'Center Y', 'Size'])\n",
    "\n",
    "for i in range(best_k):\n",
    "    center = kmeans.cluster_centers_[i]\n",
    "    size = len(X[labels == i])\n",
    "    cluster_data = {'Cluster': i, 'Center X': center[0], 'Center Y': center[1], 'Size': size}\n",
    "    clusters_df = clusters_df.append(cluster_data, ignore_index=True)\n",
    "\n",
    "# Save the clusters data to a CSV file\n",
    "clusters_df.to_csv('Mall_Customers_Clusters.csv', index=False)\n"
   ]
  },
  {
   "cell_type": "code",
   "execution_count": null,
   "id": "60b297ac",
   "metadata": {},
   "outputs": [],
   "source": []
  }
 ],
 "metadata": {
  "kernelspec": {
   "display_name": "Python 3",
   "language": "python",
   "name": "python3"
  },
  "language_info": {
   "codemirror_mode": {
    "name": "ipython",
    "version": 3
   },
   "file_extension": ".py",
   "mimetype": "text/x-python",
   "name": "python",
   "nbconvert_exporter": "python",
   "pygments_lexer": "ipython3",
   "version": "3.8.8"
  }
 },
 "nbformat": 4,
 "nbformat_minor": 5
}

{
 "cells": [
  {
   "cell_type": "markdown",
   "id": "0cbf77db",
   "metadata": {},
   "source": [
    "# Assignment 5\n",
    "\n",
    "### Divija 102018056 CSBS - 3\n"
   ]
  },
  {
   "cell_type": "code",
   "execution_count": 31,
   "id": "91a28d82",
   "metadata": {},
   "outputs": [],
   "source": [
    "import pandas as pd\n",
    "from sklearn.model_selection import train_test_split\n",
    "from sklearn.naive_bayes import GaussianNB\n",
    "from sklearn.neighbors import KNeighborsClassifier\n",
    "from sklearn.metrics import confusion_matrix"
   ]
  },
  {
   "cell_type": "code",
   "execution_count": 5,
   "id": "c9ec9312",
   "metadata": {},
   "outputs": [],
   "source": [
    "df = pd.read_csv('iris.csv' )"
   ]
  },
  {
   "cell_type": "code",
   "execution_count": 6,
   "id": "67134f1c",
   "metadata": {},
   "outputs": [
    {
     "data": {
      "text/html": [
       "<div>\n",
       "<style scoped>\n",
       "    .dataframe tbody tr th:only-of-type {\n",
       "        vertical-align: middle;\n",
       "    }\n",
       "\n",
       "    .dataframe tbody tr th {\n",
       "        vertical-align: top;\n",
       "    }\n",
       "\n",
       "    .dataframe thead th {\n",
       "        text-align: right;\n",
       "    }\n",
       "</style>\n",
       "<table border=\"1\" class=\"dataframe\">\n",
       "  <thead>\n",
       "    <tr style=\"text-align: right;\">\n",
       "      <th></th>\n",
       "      <th>Id</th>\n",
       "      <th>SepalLengthCm</th>\n",
       "      <th>SepalWidthCm</th>\n",
       "      <th>PetalLengthCm</th>\n",
       "      <th>PetalWidthCm</th>\n",
       "      <th>Species</th>\n",
       "    </tr>\n",
       "  </thead>\n",
       "  <tbody>\n",
       "    <tr>\n",
       "      <th>0</th>\n",
       "      <td>1</td>\n",
       "      <td>5.1</td>\n",
       "      <td>3.5</td>\n",
       "      <td>1.4</td>\n",
       "      <td>0.2</td>\n",
       "      <td>Iris-setosa</td>\n",
       "    </tr>\n",
       "    <tr>\n",
       "      <th>1</th>\n",
       "      <td>2</td>\n",
       "      <td>4.9</td>\n",
       "      <td>3.0</td>\n",
       "      <td>1.4</td>\n",
       "      <td>0.2</td>\n",
       "      <td>Iris-setosa</td>\n",
       "    </tr>\n",
       "    <tr>\n",
       "      <th>2</th>\n",
       "      <td>3</td>\n",
       "      <td>4.7</td>\n",
       "      <td>3.2</td>\n",
       "      <td>1.3</td>\n",
       "      <td>0.2</td>\n",
       "      <td>Iris-setosa</td>\n",
       "    </tr>\n",
       "    <tr>\n",
       "      <th>3</th>\n",
       "      <td>4</td>\n",
       "      <td>4.6</td>\n",
       "      <td>3.1</td>\n",
       "      <td>1.5</td>\n",
       "      <td>0.2</td>\n",
       "      <td>Iris-setosa</td>\n",
       "    </tr>\n",
       "    <tr>\n",
       "      <th>4</th>\n",
       "      <td>5</td>\n",
       "      <td>5.0</td>\n",
       "      <td>3.6</td>\n",
       "      <td>1.4</td>\n",
       "      <td>0.2</td>\n",
       "      <td>Iris-setosa</td>\n",
       "    </tr>\n",
       "  </tbody>\n",
       "</table>\n",
       "</div>"
      ],
      "text/plain": [
       "   Id  SepalLengthCm  SepalWidthCm  PetalLengthCm  PetalWidthCm      Species\n",
       "0   1            5.1           3.5            1.4           0.2  Iris-setosa\n",
       "1   2            4.9           3.0            1.4           0.2  Iris-setosa\n",
       "2   3            4.7           3.2            1.3           0.2  Iris-setosa\n",
       "3   4            4.6           3.1            1.5           0.2  Iris-setosa\n",
       "4   5            5.0           3.6            1.4           0.2  Iris-setosa"
      ]
     },
     "execution_count": 6,
     "metadata": {},
     "output_type": "execute_result"
    }
   ],
   "source": [
    "df.head()"
   ]
  },
  {
   "cell_type": "code",
   "execution_count": 7,
   "id": "c690d26c",
   "metadata": {},
   "outputs": [
    {
     "name": "stdout",
     "output_type": "stream",
     "text": [
      "<class 'pandas.core.frame.DataFrame'>\n",
      "RangeIndex: 150 entries, 0 to 149\n",
      "Data columns (total 6 columns):\n",
      " #   Column         Non-Null Count  Dtype  \n",
      "---  ------         --------------  -----  \n",
      " 0   Id             150 non-null    int64  \n",
      " 1   SepalLengthCm  150 non-null    float64\n",
      " 2   SepalWidthCm   150 non-null    float64\n",
      " 3   PetalLengthCm  150 non-null    float64\n",
      " 4   PetalWidthCm   150 non-null    float64\n",
      " 5   Species        150 non-null    object \n",
      "dtypes: float64(4), int64(1), object(1)\n",
      "memory usage: 7.2+ KB\n"
     ]
    }
   ],
   "source": [
    "df.info()"
   ]
  },
  {
   "cell_type": "code",
   "execution_count": 52,
   "id": "5d82f8c2",
   "metadata": {},
   "outputs": [
    {
     "name": "stdout",
     "output_type": "stream",
     "text": [
      "      Id  SepalLengthCm  SepalWidthCm  PetalLengthCm  PetalWidthCm\n",
      "81    82            5.5           2.4            3.7           1.0\n",
      "133  134            6.3           2.8            5.1           1.5\n",
      "137  138            6.4           3.1            5.5           1.8\n",
      "75    76            6.6           3.0            4.4           1.4\n",
      "109  110            7.2           3.6            6.1           2.5\n",
      "..   ...            ...           ...            ...           ...\n",
      "71    72            6.1           2.8            4.0           1.3\n",
      "106  107            4.9           2.5            4.5           1.7\n",
      "14    15            5.8           4.0            1.2           0.2\n",
      "92    93            5.8           2.6            4.0           1.2\n",
      "102  103            7.1           3.0            5.9           2.1\n",
      "\n",
      "[105 rows x 5 columns]\n",
      "      Id  SepalLengthCm  SepalWidthCm  PetalLengthCm  PetalWidthCm\n",
      "73    74            6.1           2.8            4.7           1.2\n",
      "18    19            5.7           3.8            1.7           0.3\n",
      "118  119            7.7           2.6            6.9           2.3\n",
      "78    79            6.0           2.9            4.5           1.5\n",
      "76    77            6.8           2.8            4.8           1.4\n",
      "31    32            5.4           3.4            1.5           0.4\n",
      "64    65            5.6           2.9            3.6           1.3\n",
      "141  142            6.9           3.1            5.1           2.3\n",
      "68    69            6.2           2.2            4.5           1.5\n",
      "82    83            5.8           2.7            3.9           1.2\n",
      "110  111            6.5           3.2            5.1           2.0\n",
      "12    13            4.8           3.0            1.4           0.1\n",
      "36    37            5.5           3.5            1.3           0.2\n",
      "9     10            4.9           3.1            1.5           0.1\n",
      "19    20            5.1           3.8            1.5           0.3\n",
      "56    57            6.3           3.3            4.7           1.6\n",
      "104  105            6.5           3.0            5.8           2.2\n",
      "69    70            5.6           2.5            3.9           1.1\n",
      "55    56            5.7           2.8            4.5           1.3\n",
      "132  133            6.4           2.8            5.6           2.2\n",
      "29    30            4.7           3.2            1.6           0.2\n",
      "127  128            6.1           3.0            4.9           1.8\n",
      "26    27            5.0           3.4            1.6           0.4\n",
      "128  129            6.4           2.8            5.6           2.1\n",
      "131  132            7.9           3.8            6.4           2.0\n",
      "145  146            6.7           3.0            5.2           2.3\n",
      "108  109            6.7           2.5            5.8           1.8\n",
      "143  144            6.8           3.2            5.9           2.3\n",
      "45    46            4.8           3.0            1.4           0.3\n",
      "30    31            4.8           3.1            1.6           0.2\n",
      "22    23            4.6           3.6            1.0           0.2\n",
      "15    16            5.7           4.4            1.5           0.4\n",
      "65    66            6.7           3.1            4.4           1.4\n",
      "11    12            4.8           3.4            1.6           0.2\n",
      "42    43            4.4           3.2            1.3           0.2\n",
      "146  147            6.3           2.5            5.0           1.9\n",
      "51    52            6.4           3.2            4.5           1.5\n",
      "27    28            5.2           3.5            1.5           0.2\n",
      "4      5            5.0           3.6            1.4           0.2\n",
      "32    33            5.2           4.1            1.5           0.1\n",
      "142  143            5.8           2.7            5.1           1.9\n",
      "85    86            6.0           3.4            4.5           1.6\n",
      "86    87            6.7           3.1            4.7           1.5\n",
      "16    17            5.4           3.9            1.3           0.4\n",
      "10    11            5.4           3.7            1.5           0.2\n",
      "[ 1  3 10  1  1 15 11  1  1  0 15 12 11  3  1  6 11 14 10 21  9 17 11  1\n",
      " 16  6  1  2  3  6 14  1  1  4  9  1  8 18  1  9 16  1 14 15  6 11 19  9\n",
      "  3  6 15  1  1  7 13  0 20  1  5 14  7 19 12 10 19  9  1  0 11 14  1  2\n",
      "  1 11 20  2 17 21  1 10 11 14 10 19  1 17 11 16  6 10 10  2  9  8  1  9\n",
      " 14 17  3  6 21 12  0 20  1 11 15 14  9 14  9  9 16 14  1  9 13  1  8 17]\n",
      "\n",
      "\n",
      "[ 8  2 19 11 10  3  9 19 11  8 16  0  1  0  2 12 18  7  9 18  1 14  3 17\n",
      " 16 19 14 19  2  1]\n"
     ]
    }
   ],
   "source": [
    "# Split the dataset into training and testing sets\n",
    "X_train, X_test, y_train, y_test = train_test_split(df.iloc[:, :-1], df.iloc[:, -1], test_size=0.3, random_state=42)\n",
    "print(X_train)\n",
    "print(X_test)\n",
    "print(Y_train)\n",
    "print('\\n')\n",
    "print(Y_test)\n",
    "# df.iloc[:, -1]"
   ]
  },
  {
   "cell_type": "code",
   "execution_count": 37,
   "id": "ec90325a",
   "metadata": {},
   "outputs": [
    {
     "data": {
      "text/plain": [
       "GaussianNB()"
      ]
     },
     "execution_count": 37,
     "metadata": {},
     "output_type": "execute_result"
    }
   ],
   "source": [
    "nb_classifier = GaussianNB()\n",
    "nb_classifier.fit(X_train, y_train)"
   ]
  },
  {
   "cell_type": "code",
   "execution_count": 38,
   "id": "83b6b830",
   "metadata": {},
   "outputs": [],
   "source": [
    "nb_y_pred = nb_classifier.predict(X_test)"
   ]
  },
  {
   "cell_type": "code",
   "execution_count": 39,
   "id": "5a800756",
   "metadata": {},
   "outputs": [
    {
     "name": "stdout",
     "output_type": "stream",
     "text": [
      "Confusion Matrix - Naïve Bayes:\n",
      " [[19  0  0]\n",
      " [ 0 13  0]\n",
      " [ 0  0 13]]\n"
     ]
    }
   ],
   "source": [
    "nb_cm = confusion_matrix(y_test, nb_y_pred)\n",
    "print(\"Confusion Matrix - Naïve Bayes:\\n\", nb_cm)"
   ]
  },
  {
   "cell_type": "code",
   "execution_count": 40,
   "id": "cb73ebfa",
   "metadata": {},
   "outputs": [
    {
     "name": "stdout",
     "output_type": "stream",
     "text": [
      "Confusion Matrix - k-NN (k=3):\n",
      " [[19  0  0]\n",
      " [ 0 13  0]\n",
      " [ 0  0 13]]\n",
      "Confusion Matrix - k-NN (k=5):\n",
      " [[19  0  0]\n",
      " [ 0 13  0]\n",
      " [ 0  0 13]]\n",
      "Confusion Matrix - k-NN (k=7):\n",
      " [[19  0  0]\n",
      " [ 0 13  0]\n",
      " [ 0  0 13]]\n",
      "Confusion Matrix - k-NN (k=9):\n",
      " [[19  0  0]\n",
      " [ 0 13  0]\n",
      " [ 0  0 13]]\n",
      "Best k value: 3\n",
      "Best score: 1.0\n"
     ]
    }
   ],
   "source": [
    "# k-NN Classifier\n",
    "\n",
    "k_values = [3, 5, 7, 9]  # list of k values to test\n",
    "best_k = None\n",
    "best_score = -1\n",
    "for k in k_values:\n",
    "    knn_classifier = KNeighborsClassifier(n_neighbors=k)\n",
    "    knn_classifier.fit(X_train, y_train)\n",
    "\n",
    "    # Predict the target variable for the test data using the trained classifier\n",
    "    knn_y_pred = knn_classifier.predict(X_test)\n",
    "\n",
    "    # Determine the optimal value of k\n",
    "    knn_score = knn_classifier.score(X_test, y_test)\n",
    "    if knn_score > best_score:\n",
    "        best_score = knn_score\n",
    "        best_k = k\n",
    "\n",
    "    # Evaluate the performance of the classifier using the confusion matrix\n",
    "    knn_cm = confusion_matrix(y_test, knn_y_pred)\n",
    "    print(\"Confusion Matrix - k-NN (k={}):\\n\".format(k), knn_cm)\n",
    "\n",
    "print(\"Best k value: {}\\nBest score: {}\".format(best_k, best_score))\n"
   ]
  },
  {
   "cell_type": "code",
   "execution_count": null,
   "id": "31f5c526",
   "metadata": {},
   "outputs": [],
   "source": []
  }
 ],
 "metadata": {
  "kernelspec": {
   "display_name": "Python 3",
   "language": "python",
   "name": "python3"
  },
  "language_info": {
   "codemirror_mode": {
    "name": "ipython",
    "version": 3
   },
   "file_extension": ".py",
   "mimetype": "text/x-python",
   "name": "python",
   "nbconvert_exporter": "python",
   "pygments_lexer": "ipython3",
   "version": "3.8.8"
  }
 },
 "nbformat": 4,
 "nbformat_minor": 5
}

{
 "cells": [
  {
   "cell_type": "markdown",
   "id": "cc3e0e41",
   "metadata": {},
   "source": [
    "## DIVIJA 102018056 CSBS-3"
   ]
  },
  {
   "cell_type": "code",
   "execution_count": 2,
   "id": "e8eafb90",
   "metadata": {},
   "outputs": [],
   "source": [
    "import numpy as np"
   ]
  },
  {
   "cell_type": "markdown",
   "id": "44a3aa3b",
   "metadata": {},
   "source": [
    "### Q1 (a)Reverse the NumPy array: arr = np.array([1, 2, 3, 6, 4, 5])"
   ]
  },
  {
   "cell_type": "code",
   "execution_count": 3,
   "id": "3cba6688",
   "metadata": {},
   "outputs": [
    {
     "name": "stdout",
     "output_type": "stream",
     "text": [
      "5\n",
      "4\n",
      "6\n",
      "3\n",
      "2\n",
      "1\n",
      "[5 4 6 3 2 1]\n"
     ]
    }
   ],
   "source": [
    "arr= np.array([1,2,3,6,4,5])\n",
    "\n",
    "#method 1\n",
    "arr1 = reversed(arr)\n",
    "for num in arr1:\n",
    "    print(num)\n",
    "    \n",
    "#method 2  \n",
    "arr2 = arr[::-1]\n",
    "print(arr2)"
   ]
  },
  {
   "cell_type": "markdown",
   "id": "5ce97c3d",
   "metadata": {},
   "source": [
    "### (b) Flatten the NumPy arr:array1 = np.array([[1, 2, 3], [2, 4, 5], [1, 2, 3]]) using any two NumPy in-built methods"
   ]
  },
  {
   "cell_type": "code",
   "execution_count": 4,
   "id": "d7114ae7",
   "metadata": {},
   "outputs": [
    {
     "data": {
      "text/plain": [
       "array([1, 2, 3, 2, 4, 5, 1, 2, 3])"
      ]
     },
     "execution_count": 4,
     "metadata": {},
     "output_type": "execute_result"
    }
   ],
   "source": [
    "#using .flatten()\n",
    "array1 = np.array([[1, 2, 3], [2, 4, 5], [1, 2, 3]])\n",
    "array1.flatten()\n",
    "\n",
    "#using .ravel\n",
    "np.ravel(array1)\n"
   ]
  },
  {
   "cell_type": "markdown",
   "id": "be6b3d9f",
   "metadata": {},
   "source": [
    "### (c)Compare the following numpy arrays:"
   ]
  },
  {
   "cell_type": "code",
   "execution_count": 5,
   "id": "718fd330",
   "metadata": {},
   "outputs": [
    {
     "name": "stdout",
     "output_type": "stream",
     "text": [
      "Both the arrays given are Equal\n"
     ]
    }
   ],
   "source": [
    "\n",
    "\n",
    "arr1 = np.array([[1, 2], [3, 4]])\n",
    "arr2 = np.array([[1, 2], [3, 4]])\n",
    "\n",
    "if np.array_equal(arr1, arr2):\n",
    "    print(\"Both the arrays given are Equal\")\n",
    "else:\n",
    "    print(\"Both the arrays given are Not Equal\")\n"
   ]
  },
  {
   "cell_type": "markdown",
   "id": "18880707",
   "metadata": {},
   "source": [
    "### (d) Find the most frequent value and their indice(s) in the following arrays: (d) Find the most frequent value and their indice(s) in the following arrays:"
   ]
  },
  {
   "cell_type": "code",
   "execution_count": 6,
   "id": "b14d4e22",
   "metadata": {},
   "outputs": [
    {
     "name": "stdout",
     "output_type": "stream",
     "text": [
      "Most frequent value in the given array\n",
      "1 \n",
      "Most frequent value in the given array\n",
      "1 \n",
      "3 \n"
     ]
    }
   ],
   "source": [
    "\n",
    "\n",
    "def fun(x):\n",
    "    print(\"Most frequent value in the given array\")\n",
    "    y = np.bincount(x)\n",
    "    maximum = max(y)\n",
    "\n",
    "    for i in range(len(y)):\n",
    "        if y[i] == maximum:\n",
    "            print(i, end=\" \")\n",
    "            print()\n",
    "    \n",
    "x = np.array([1,2,3,4,5,1,2,1,1,1])\n",
    "y = np.array([1, 1, 1, 2, 3, 4, 2, 4, 3, 3, ])\n",
    "fun(x)\n",
    "fun(y)\n"
   ]
  },
  {
   "cell_type": "markdown",
   "id": "681a6050",
   "metadata": {},
   "source": [
    "### (e) For the array gfg = np.matrix('[4, 1, 9; 12, 3, 1; 4, 5, 6]'), find\n",
    "### i. Sum of all elements\n",
    "### ii. Sum of all elements row-wise\n",
    "### iii. Sum of all elements column-wise"
   ]
  },
  {
   "cell_type": "code",
   "execution_count": 12,
   "id": "ab375a3d",
   "metadata": {},
   "outputs": [
    {
     "name": "stdout",
     "output_type": "stream",
     "text": [
      "Sum of all elements:\n",
      "45\n",
      "Sum of each column:\n",
      "[[20  9 16]]\n",
      "Sum of each row:\n",
      "[[14]\n",
      " [16]\n",
      " [15]]\n"
     ]
    }
   ],
   "source": [
    "gfg = np.matrix('[4, 1, 9; 12, 3, 1; 4, 5, 6]')\n",
    "\n",
    "print(\"Sum of all elements:\")\n",
    "print(np.sum(gfg))\n",
    "\n",
    "print(\"Sum of each column:\")\n",
    "print(np.sum(gfg, axis=0))\n",
    "\n",
    "print(\"Sum of each row:\")\n",
    "print(np.sum(gfg, axis = 1))"
   ]
  },
  {
   "cell_type": "markdown",
   "id": "0f3af220",
   "metadata": {},
   "source": [
    "### (f) For the matrix: n_array = np.array([[55, 25, 15],[30, 44, 2],[11, 45, 77]]), find\n",
    "#### i. Sum of diagonal elements\n",
    "#### ii. Eigen values of matrix\n",
    "#### iii. Eigen vectors of matrix\n",
    "#### iv. Inverse of matrix\n",
    "#### v. Determinant of matrix"
   ]
  },
  {
   "cell_type": "code",
   "execution_count": 13,
   "id": "d38dd276",
   "metadata": {},
   "outputs": [
    {
     "name": "stdout",
     "output_type": "stream",
     "text": [
      "the sum of diagonal elements is : 176\n",
      "Printing the Eigen values of the given square array:\n",
      " [98.16835147 28.097044   49.73460452]\n",
      "Printing Right eigenvectors of the given square array:\n",
      " [[ 0.4574917   0.34637121 -0.15017693]\n",
      " [ 0.28447814 -0.72784061 -0.4852124 ]\n",
      " [ 0.84248058  0.59184038  0.8614034 ]]\n",
      "the inverse of the given matrix is :\n",
      "\n",
      "[[ 0.02404141 -0.00911212 -0.00444671]\n",
      " [-0.01667882  0.02966905  0.0024785 ]\n",
      " [ 0.00631287 -0.01603732  0.01217379]]\n",
      "the det of the given matrix is :\n",
      "\n",
      "137180.0000000001\n"
     ]
    }
   ],
   "source": [
    "\n",
    "def sum_d(n_array , n , m):\n",
    "    sumd = 0\n",
    "    for i in range(n):\n",
    "        for j in range(m):\n",
    "            if (i == j):\n",
    "                sumd = sumd + n_array[i][j]\n",
    "    print('the sum of diagonal elements is :',sumd)\n",
    "\n",
    "\n",
    "def find_e(n_array):\n",
    "    w, v = np.linalg.eig(n_array)\n",
    "\n",
    "    print(\"Printing the Eigen values of the given square array:\\n\", w)\n",
    "    print(\"Printing Right eigenvectors of the given square array:\\n\", v)\n",
    "    print(\"the inverse of the given matrix is :\\n\")\n",
    "    print(np.linalg.inv(n_array))\n",
    "    print(\"the det of the given matrix is :\\n\")\n",
    "    print(np.linalg.det(n_array))\n",
    "\n",
    "n_array = np.array([[55, 25, 15],[30, 44, 2],[11, 45, 77]])\n",
    "n = len(n_array)\n",
    "m = len(n_array[0])\n",
    "sum_d(n_array , n , m)\n",
    "find_e(n_array)"
   ]
  },
  {
   "cell_type": "markdown",
   "id": "5a7b100a",
   "metadata": {},
   "source": [
    "### (g) Multiply the following matrices and also find covariance between matrices using NumPy:"
   ]
  },
  {
   "cell_type": "code",
   "execution_count": 9,
   "id": "7a00f3aa",
   "metadata": {},
   "outputs": [
    {
     "name": "stdout",
     "output_type": "stream",
     "text": [
      "[16, 19, 0, 0]\n",
      "[26, 31, 0, 0]\n",
      "[0, 0, 0, 0]\n",
      "[16, 19, 5, 0]\n",
      "[26, 31, 8, 0]\n",
      "[46, 55, 14, 0]\n"
     ]
    },
    {
     "data": {
      "text/plain": [
       "array([[0.5, 0.5, 0.5, 0.5],\n",
       "       [0.5, 0.5, 0.5, 0.5],\n",
       "       [0.5, 0.5, 0.5, 0.5],\n",
       "       [0.5, 0.5, 0.5, 0.5]])"
      ]
     },
     "execution_count": 9,
     "metadata": {},
     "output_type": "execute_result"
    }
   ],
   "source": [
    "\n",
    "\n",
    "def mul(A,B):\n",
    "    result = [[0, 0, 0, 0],\n",
    "            [0, 0, 0, 0],\n",
    "            [0, 0, 0, 0]]\n",
    "\n",
    "    # iterating by row of A\n",
    "    for i in range(len(A)):\n",
    "\n",
    "        # iterating by column by B\n",
    "        for j in range(len(B[0])):\n",
    "\n",
    "            # iterating by rows of B\n",
    "            for k in range(len(B)):\n",
    "                result[i][j] += A[i][k] * B[k][j]\n",
    "\n",
    "    for r in result:\n",
    "        print(r)\n",
    "\n",
    "p = [[1, 2], [2, 3]]\n",
    "q = [[4, 5], [6, 7]]\n",
    "p1 = [[1, 2], [2, 3], [4, 5]]\n",
    "q1 = [[4, 5, 1], [6, 7, 2]]\n",
    "mul(p,q)\n",
    "mul(p1,q1)\n",
    "np.cov(p,q)"
   ]
  },
  {
   "cell_type": "markdown",
   "id": "360547f7",
   "metadata": {},
   "source": [
    "### (h) For the matrices: x = np.array([[2, 3, 4], [3, 2, 9]]); y = np.array([[1, 5, 0], [5, 10, 3]]),find inner, outer and cartesian product?"
   ]
  },
  {
   "cell_type": "code",
   "execution_count": 10,
   "id": "3cdb1685",
   "metadata": {},
   "outputs": [
    {
     "name": "stdout",
     "output_type": "stream",
     "text": [
      "\n",
      "Inner product of vectors x and y =\n",
      "[[17 52]\n",
      " [13 62]]\n",
      "\n",
      "Outer product of vectors x and y =\n",
      "[[ 2 10  0 10 20  6]\n",
      " [ 3 15  0 15 30  9]\n",
      " [ 4 20  0 20 40 12]\n",
      " [ 3 15  0 15 30  9]\n",
      " [ 2 10  0 10 20  6]\n",
      " [ 9 45  0 45 90 27]]\n",
      "\n",
      "cartasian product of vectors x and y =\n",
      "[[-20   4   7]\n",
      " [-84  36  20]]\n"
     ]
    }
   ],
   "source": [
    "x = np.array([[2, 3, 4], [3, 2, 9]])\n",
    "y = np.array([[1, 5, 0], [5, 10, 3]])\n",
    "\n",
    "# Inner Product of Vectors\n",
    "print(\"\\nInner product of vectors x and y =\")\n",
    "print(np.inner(x, y))\n",
    "\n",
    "# Outer product of vectors \n",
    "print(\"\\nOuter product of vectors x and y =\")\n",
    "print(np.outer(x, y))\n",
    "\n",
    "print(\"\\ncartasian product of vectors x and y =\")\n",
    "print(np.cross(x, y))"
   ]
  },
  {
   "cell_type": "markdown",
   "id": "7a9496ee",
   "metadata": {},
   "source": [
    "### Q2: Based on NumPy Mathematics and Statistics\n",
    "### (a) For the array: array = np.array([[1, -2, 3],[-4, 5, -6]])\n",
    "### i. Find element-wise absolute value\n",
    "### ii. Find the 25th, 50th, and 75th percentile of flattened array, for each column, for each row.\n",
    "### iii. Mean, Median and Standard Deviation of flattened array, of each column, and each row"
   ]
  },
  {
   "cell_type": "code",
   "execution_count": 21,
   "id": "a3446749",
   "metadata": {},
   "outputs": [
    {
     "name": "stdout",
     "output_type": "stream",
     "text": [
      "Absolute array:\n",
      " [[1 2 3]\n",
      " [4 5 6]]\n",
      "\n",
      "FOR THE FLATTENED ARRAY\n",
      "\n",
      "50th percentile of arr :  -3.5\n",
      "25th percentile of arr :  -0.5\n",
      "75th percentile of arr :  2.5\n",
      "\n",
      "ALONG THE COLUMNS\n",
      "\n",
      "50th percentile of arr :  [-2.75 -0.25 -3.75]\n",
      "25th percentile of arr :  [-1.5  1.5 -1.5]\n",
      "75th percentile of arr :  [-0.25  3.25  0.75]\n",
      "\n",
      "ALONG THE ROWS\n",
      "\n",
      "50th percentile of arr :  [-0.5 -5. ]\n",
      "25th percentile of arr :  [ 1. -4.]\n",
      "75th percentile of arr :  [2.  0.5]\n",
      "\n",
      "mean of arr-flat, axis = None :  -0.5\n",
      "\n",
      "mean of arr-col, axis = 0 :  [-1.5  1.5 -1.5]\n",
      "\n",
      "mean of arr-row, axis = 1 :  [ 0.66666667 -1.66666667]\n",
      "\n",
      "median of arr-flat, axis = None :  -0.5\n",
      "\n",
      "median of arr-col, axis = 0 :  [-1.5  1.5 -1.5]\n",
      "\n",
      "median of arr-row, axis = 1 :  [ 1. -4.]\n",
      "\n",
      "std of arr-flat, axis = None :  3.8622100754188224\n",
      "\n",
      "std of arr-col, axis = 0 :  [2.5 3.5 4.5]\n",
      "\n",
      "std of arr-row, axis = 1 :  [2.05480467 4.78423336]\n"
     ]
    }
   ],
   "source": [
    "\n",
    "array = np.array([[1, -2, 3],[-4, 5, -6]])\n",
    "\n",
    "res = np.absolute(array)\n",
    "  \n",
    "print(\"Absolute array:\\n\", res)\n",
    "\n",
    "\n",
    "arr1= array.flatten()\n",
    "print(\"\\nFOR THE FLATTENED ARRAY\\n\")\n",
    "print(\"50th percentile of arr : \",\n",
    "       np.percentile(arr1, 25 ))\n",
    "print(\"25th percentile of arr : \",\n",
    "       np.percentile(arr1, 50))\n",
    "print(\"75th percentile of arr : \",\n",
    "       np.percentile(arr1, 75))\n",
    "\n",
    "print(\"\\nALONG THE COLUMNS\\n\")\n",
    "print(\"50th percentile of arr : \",\n",
    "       np.percentile(array, 25 , axis = 0))\n",
    "print(\"25th percentile of arr : \",\n",
    "       np.percentile(array, 50 , axis = 0))\n",
    "print(\"75th percentile of arr : \",\n",
    "       np.percentile(array, 75, axis = 0))\n",
    "\n",
    "print(\"\\nALONG THE ROWS\\n\")\n",
    "print(\"50th percentile of arr : \",\n",
    "       np.percentile(array, 25 , axis = 1))\n",
    "print(\"25th percentile of arr : \",\n",
    "       np.percentile(array, 50 , axis = 1))\n",
    "print(\"75th percentile of arr : \",\n",
    "       np.percentile(array, 75, axis = 1))\n",
    "\n",
    "\n",
    "# mean of the flattened array \n",
    "print(\"\\nmean of arr-flat, axis = None : \", np.mean(arr1)) \n",
    "    \n",
    "# mean along the axis = 0 \n",
    "print(\"\\nmean of arr-col, axis = 0 : \", np.mean(array, axis = 0)) \n",
    "   \n",
    "# mean along the axis = 1 \n",
    "print(\"\\nmean of arr-row, axis = 1 : \", np.mean(array, axis = 1))\n",
    "  \n",
    "\n",
    "# median of the flattened array \n",
    "print(\"\\nmedian of arr-flat, axis = None : \", np.median(arr1)) \n",
    "    \n",
    "#median along the axis = 0 \n",
    "print(\"\\nmedian of arr-col, axis = 0 : \", np.median(array, axis = 0)) \n",
    "   \n",
    "# median along the axis = 1 \n",
    "print(\"\\nmedian of arr-row, axis = 1 : \", np.median(array, axis = 1))\n",
    "\n",
    "\n",
    "# std of the flattened array \n",
    "print(\"\\nstd of arr-flat, axis = None : \", np.std(arr1)) \n",
    "    \n",
    "#std along the axis = 0 \n",
    "print(\"\\nstd of arr-col, axis = 0 : \", np.std(array, axis = 0)) \n",
    "   \n",
    "#std along the axis = 1 \n",
    "print(\"\\nstd of arr-row, axis = 1 : \", np.std(array, axis = 1))"
   ]
  },
  {
   "cell_type": "markdown",
   "id": "d67e05fb",
   "metadata": {},
   "source": [
    "### (b) For the array: a = np.array([-1.8, -1.6, -0.5, 0.5,1.6, 1.8, 3.0]). Find floor, ceiling and truncated value, rounded values"
   ]
  },
  {
   "cell_type": "code",
   "execution_count": 12,
   "id": "4e851a6c",
   "metadata": {},
   "outputs": [
    {
     "name": "stdout",
     "output_type": "stream",
     "text": [
      "\n",
      "Floor values : \n",
      " [-2. -2. -1.  0.  1.  1.  3.]\n",
      "\n",
      "Ceil values : \n",
      " [-1. -1. -0.  1.  2.  2.  3.]\n",
      "\n",
      "Truncated values : \n",
      " [-1. -1. -0.  0.  1.  1.  3.]\n",
      "\n",
      "Round values : \n",
      " [-2. -2. -0.  0.  2.  2.  3.]\n"
     ]
    }
   ],
   "source": [
    "\n",
    "\n",
    "a = np.array([-1.8, -1.6, -0.5, 0.5,1.6, 1.8, 3.0])\n",
    "floor_values = np.floor(a)\n",
    "print(\"\\nFloor values : \\n\", floor_values)\n",
    "  \n",
    "ceil_values = np.ceil(a)\n",
    "print(\"\\nCeil values : \\n\", ceil_values)\n",
    "  \n",
    "trunc_values = np.trunc(a)\n",
    "print(\"\\nTruncated values : \\n\", trunc_values)\n",
    "\n",
    "round_values = np.around(a)\n",
    "print(\"\\nRound values : \\n\", round_values)"
   ]
  },
  {
   "cell_type": "markdown",
   "id": "884b1bd0",
   "metadata": {},
   "source": [
    "### Q3: Based on Searching and Sorting\n",
    "### (a) For the array: array = np.array([10, 52, 62, 16, 16, 54, 453]), find\n",
    "### i. Sorted array\n",
    "### ii. Indices of sorted array\n",
    "### iii. 4 smallest elements\n",
    "### iv. 5 largest elements"
   ]
  },
  {
   "cell_type": "code",
   "execution_count": 13,
   "id": "0118548a",
   "metadata": {},
   "outputs": [
    {
     "name": "stdout",
     "output_type": "stream",
     "text": [
      "[ 10  16  16  52  54  62 453]\n",
      "[0 1 2 3 4 5 6]\n",
      "52\n",
      "16\n"
     ]
    }
   ],
   "source": [
    "\n",
    "array = np.array([10, 52, 62, 16, 16, 54, 453])\n",
    "array = np.sort(array)\n",
    "print(array)\n",
    "\n",
    "indices = np.argsort(array)\n",
    "print(indices)\n",
    "\n",
    "\n",
    "n = 4\n",
    "for i in range(0,n):\n",
    "    if (i == n-1):\n",
    "        print(array[i])\n",
    "\n",
    "\n",
    "print(array[2])"
   ]
  },
  {
   "cell_type": "markdown",
   "id": "cc279340",
   "metadata": {},
   "source": [
    "### (b) For the array: array = np.array([1.0, 1.2, 2.2, 2.0, 3.0, 2.0]), find\n",
    "### i. Integer elements only\n",
    "### ii. Float elements only"
   ]
  },
  {
   "cell_type": "code",
   "execution_count": 14,
   "id": "bbb93094",
   "metadata": {},
   "outputs": [
    {
     "name": "stdout",
     "output_type": "stream",
     "text": [
      "final int value array [1. 2. 3. 2.]\n",
      "final float value array [1.2 2.2]\n"
     ]
    }
   ],
   "source": [
    "\n",
    "array = np.array([1.0, 1.2, 2.2, 2.0, 3.0, 2.0])\n",
    "result = array[array == array.astype(int)]\n",
    "print (\"final int value array\", result)\n",
    "\n",
    "\n",
    "result = array[array != array.astype(int)]\n",
    "print (\"final float value array\", result)"
   ]
  },
  {
   "cell_type": "markdown",
   "id": "795c1aee",
   "metadata": {},
   "source": [
    "### Q4:(a) Write a function named img_to_array(path) that reads an image from a specified path and save it as text file on local machine? (Note: use separate cases for RGB and Grey Scaleimages)\n",
    "#### (b) Load the saved file into jupyter notebook?"
   ]
  },
  {
   "cell_type": "code",
   "execution_count": 27,
   "id": "4c3193b9",
   "metadata": {},
   "outputs": [
    {
     "data": {
      "image/png": "[encoded data removed]",
      "text/plain": [
       "<Figure size 432x288 with 1 Axes>"
      ]
     },
     "metadata": {
      "needs_background": "light"
     },
     "output_type": "display_data"
    },
    {
     "name": "stdout",
     "output_type": "stream",
     "text": [
      "[[[213 214 219]\n",
      "  [211 214 221]\n",
      "  [209 213 222]\n",
      "  ...\n",
      "  [206 211 215]\n",
      "  [206 211 215]\n",
      "  [206 211 215]]\n",
      "\n",
      " [[210 213 218]\n",
      "  [209 212 217]\n",
      "  [207 211 220]\n",
      "  ...\n",
      "  [206 211 215]\n",
      "  [206 211 215]\n",
      "  [206 211 215]]\n",
      "\n",
      " [[210 214 217]\n",
      "  [209 212 217]\n",
      "  [206 211 217]\n",
      "  ...\n",
      "  [206 211 215]\n",
      "  [206 211 215]\n",
      "  [206 211 215]]\n",
      "\n",
      " ...\n",
      "\n",
      " [[154 144 153]\n",
      "  [144 131 138]\n",
      "  [133 117 120]\n",
      "  ...\n",
      "  [177 144 109]\n",
      "  [175 142 107]\n",
      "  [174 141 106]]\n",
      "\n",
      " [[158 148 157]\n",
      "  [156 143 150]\n",
      "  [156 140 143]\n",
      "  ...\n",
      "  [178 145 110]\n",
      "  [175 142 107]\n",
      "  [174 141 106]]\n",
      "\n",
      " [[165 155 164]\n",
      "  [167 154 161]\n",
      "  [171 155 158]\n",
      "  ...\n",
      "  [178 145 110]\n",
      "  [176 143 108]\n",
      "  [174 141 106]]]\n",
      "[[214 214 213 ... 210 210 210]\n",
      " [213 212 211 ... 210 210 210]\n",
      " [213 212 210 ... 210 210 210]\n",
      " ...\n",
      " [148 136 122 ... 150 148 147]\n",
      " [152 148 145 ... 151 148 147]\n",
      " [159 159 160 ... 151 149 147]]\n",
      "\n",
      "Content in rgb.txt:\n",
      " [[[213 214 219]\n",
      "  [211 214 221]\n",
      "  [209 213 222]\n",
      "  ...\n",
      "  [206 211 215]\n",
      "  [206 211 215]\n",
      "  [206 211 215]]\n",
      "\n",
      " [[210 213 218]\n",
      "  [209 212 217]\n",
      "  [207 211 220]\n",
      "  ...\n",
      "  [206 211 215]\n",
      "  [206 211 215]\n",
      "  [206 211 215]]\n",
      "\n",
      " [[210 214 217]\n",
      "  [209 212 217]\n",
      "  [206 211 217]\n",
      "  ...\n",
      "  [206 211 215]\n",
      "  [206 211 215]\n",
      "  [206 211 215]]\n",
      "\n",
      " ...\n",
      "\n",
      " [[154 144 153]\n",
      "  [144 131 138]\n",
      "  [133 117 120]\n",
      "  ...\n",
      "  [177 144 109]\n",
      "  [175 142 107]\n",
      "  [174 141 106]]\n",
      "\n",
      " [[158 148 157]\n",
      "  [156 143 150]\n",
      "  [156 140 143]\n",
      "  ...\n",
      "  [178 145 110]\n",
      "  [175 142 107]\n",
      "  [174 141 106]]\n",
      "\n",
      " [[165 155 164]\n",
      "  [167 154 161]\n",
      "  [171 155 158]\n",
      "  ...\n",
      "  [178 145 110]\n",
      "  [176 143 108]\n",
      "  [174 141 106]]]\n",
      "\n",
      "Content in gs.txt:\n",
      " [[214 214 213 ... 210 210 210]\n",
      " [213 212 211 ... 210 210 210]\n",
      " [213 212 210 ... 210 210 210]\n",
      " ...\n",
      " [148 136 122 ... 150 148 147]\n",
      " [152 148 145 ... 151 148 147]\n",
      " [159 159 160 ... 151 149 147]]\n"
     ]
    }
   ],
   "source": [
    "\n",
    "from PIL import Image\n",
    "from numpy import asarray\n",
    "\n",
    "def img_to_Array(image):\n",
    "    \n",
    "    numpydata = asarray(image)\n",
    "    print(numpydata)\n",
    "\n",
    "    #converting the rgb image into greyscale image\n",
    "    im = np.array(image.convert('L')) \n",
    "    print(im)\n",
    "    \n",
    "    #saving the greyscale image in local computer\n",
    "    gr_im= Image.fromarray(im).save('gr_sample.jpeg')\n",
    "\n",
    "    \n",
    "    file = open(\"rgb.txt\", \"w+\")\n",
    " \n",
    "    # Saving the RGB array in a text file\n",
    "    content = str(numpydata)\n",
    "    file.write(content)\n",
    "    file.close()\n",
    "   \n",
    "    file = open(\"gs.txt\", \"w+\")\n",
    " \n",
    "    # Saving the greyScale array in a text file\n",
    "    content = str(im)\n",
    "    file.write(content)\n",
    "    file.close()\n",
    "    \n",
    "image = Image.open('Sample.jpeg')\n",
    "image.show() #this shows image outside the notebook\n",
    "\n",
    "from matplotlib import pyplot\n",
    "pyplot.imshow(image)\n",
    "pyplot.show()\n",
    "image1 = Image.open('gr_sample.jpeg')\n",
    "image1.show() #this shows image outside the notebook\n",
    "\n",
    "\n",
    "img_to_Array(image)\n",
    "\n",
    "# b)\n",
    "# Displaying the contents of the text file\n",
    "\n",
    "\n",
    "\n",
    "file = open(\"rgb.txt\", \"r\")\n",
    "content = file.read()\n",
    " \n",
    "print(\"\\nContent in rgb.txt:\\n\", content)\n",
    "file.close()\n",
    "\n",
    "\n",
    "file = open(\"gs.txt\", \"r\")\n",
    "content = file.read()\n",
    " \n",
    "print(\"\\nContent in gs.txt:\\n\", content)\n",
    "file.close()\n",
    "\n"
   ]
  },
  {
   "cell_type": "code",
   "execution_count": null,
   "id": "245dc9b3",
   "metadata": {},
   "outputs": [],
   "source": []
  }
 ],
 "metadata": {
  "kernelspec": {
   "display_name": "Python 3",
   "language": "python",
   "name": "python3"
  },
  "language_info": {
   "codemirror_mode": {
    "name": "ipython",
    "version": 3
   },
   "file_extension": ".py",
   "mimetype": "text/x-python",
   "name": "python",
   "nbconvert_exporter": "python",
   "pygments_lexer": "ipython3",
   "version": "3.8.8"
  },
  "vscode": {
   "interpreter": {
    "hash": "b302cdd1e032ee910f5c889c3360c28564c92ad4f326fc3102e39fbe47faee66"
   }
  }
 },
 "nbformat": 4,
 "nbformat_minor": 5
}

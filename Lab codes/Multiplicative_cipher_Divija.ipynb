{
 "cells": [
  {
   "cell_type": "markdown",
   "id": "1fc025e0",
   "metadata": {},
   "source": [
    "## MULTIPLICATIVE CIPHER"
   ]
  },
  {
   "cell_type": "code",
   "execution_count": 1,
   "id": "54e4cf47",
   "metadata": {},
   "outputs": [],
   "source": [
    "def encrypt(message, key):\n",
    "    \n",
    "    message = message.upper()\n",
    "    ciphertext = \"\"\n",
    "    for char in message:\n",
    "        if char.isalpha():\n",
    "            char_num = ord(char) - 65\n",
    "            encrypted_num = (char_num * key) % 26\n",
    "            encrypted_char = chr(encrypted_num + 65)\n",
    "            ciphertext += encrypted_char\n",
    "        else:\n",
    "            ciphertext += char\n",
    "    return ciphertext\n",
    "\n",
    "\n",
    "def decrypt(ciphertext, key):\n",
    "    message = \"\"\n",
    "    inverse_key = 0\n",
    "    for i in range(26):\n",
    "        if (key * i) % 26 == 1:\n",
    "            inverse_key = i\n",
    "            break\n",
    "    for char in ciphertext:\n",
    "        if char.isalpha():\n",
    "            char_num = ord(char) - 65\n",
    "            decrypted_num = (char_num * inverse_key) % 26\n",
    "            decrypted_char = chr(decrypted_num + 65)\n",
    "            message += decrypted_char\n",
    "        else:\n",
    "            message += char\n",
    "    return message\n"
   ]
  },
  {
   "cell_type": "code",
   "execution_count": 4,
   "id": "fb364048",
   "metadata": {},
   "outputs": [
    {
     "name": "stdout",
     "output_type": "stream",
     "text": [
      "VERELA\n"
     ]
    }
   ],
   "source": [
    "message = \"Divija\"\n",
    "key = 7\n",
    "ciphertext = encrypt(message, key)\n",
    "print(ciphertext)\n"
   ]
  },
  {
   "cell_type": "code",
   "execution_count": 5,
   "id": "9a8fba91",
   "metadata": {},
   "outputs": [
    {
     "name": "stdout",
     "output_type": "stream",
     "text": [
      "DIVIJA\n"
     ]
    }
   ],
   "source": [
    "ciphertext = \"VERELA\"\n",
    "key = 7\n",
    "message = decrypt(ciphertext, key)\n",
    "print(message)\n"
   ]
  },
  {
   "cell_type": "code",
   "execution_count": null,
   "id": "01844558",
   "metadata": {},
   "outputs": [],
   "source": []
  }
 ],
 "metadata": {
  "kernelspec": {
   "display_name": "Python 3",
   "language": "python",
   "name": "python3"
  },
  "language_info": {
   "codemirror_mode": {
    "name": "ipython",
    "version": 3
   },
   "file_extension": ".py",
   "mimetype": "text/x-python",
   "name": "python",
   "nbconvert_exporter": "python",
   "pygments_lexer": "ipython3",
   "version": "3.8.8"
  }
 },
 "nbformat": 4,
 "nbformat_minor": 5
}
